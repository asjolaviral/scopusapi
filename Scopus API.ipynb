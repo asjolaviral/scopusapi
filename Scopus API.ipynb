{
 "cells": [
  {
   "cell_type": "code",
   "execution_count": 1,
   "metadata": {
    "id": "rQ9uVwRN_Zga"
   },
   "outputs": [],
   "source": [
    "# Import Libraries\n",
    "import requests\n",
    "import json\n",
    "import xlwt\n",
    "import pandas as pd"
   ]
  },
  {
   "cell_type": "code",
   "execution_count": 2,
   "metadata": {
    "id": "4v-oaHnn_dyC"
   },
   "outputs": [],
   "source": [
    "# Function to store the data.\n",
    "def store(i):\n",
    "  case = {'url':i['prism:url'],\n",
    "          'title':i['dc:title'],\n",
    "          'author':i.get('dc:creator','NaN'),\n",
    "          'publicationname':i.get('prism:publicationName','NaN'),\n",
    "          'issn':i.get('prism:issn','NaN'),\n",
    "          'eissn':i.get('prism:eIssn','NaN'),\n",
    "          'volume':i.get('prism:volume','NaN'),\n",
    "          'issue':i.get('prism:issueIdentifier','NaN'),\n",
    "          'pagerange':i.get('prism:pageRange','NaN'),\n",
    "          'coverdate':i.get('prism:coverDate','NaN'),\n",
    "          'coverdisplaydate':i.get('prism:coverDisplayDate','NaN'),\n",
    "          'doi':i.get('prism:doi','NaN'),\n",
    "          'citedbycount':int(i.get('citedby-count','NaN')),\n",
    "          'instName':(instName)\n",
    "          }\n",
    "  case_list.append(case)"
   ]
  },
  {
   "cell_type": "code",
   "execution_count": 3,
   "metadata": {
    "id": "K_4mjZUZKhpe"
   },
   "outputs": [],
   "source": [
    "# Import excel file of queries\n",
    "df = pd.read_excel('QueryList.xlsx')"
   ]
  },
  {
   "cell_type": "code",
   "execution_count": 4,
   "metadata": {
    "colab": {
     "base_uri": "https://localhost:8080/"
    },
    "id": "p-NBn0GLWTsw",
    "outputId": "2b65babb-1dc7-41b4-e2a2-d454864beaa9"
   },
   "outputs": [
    {
     "name": "stdout",
     "output_type": "stream",
     "text": [
      "Hon. Shri. Annasaheb Dange College Of Engineering and Technology => 71\n",
      "Baba Banda Singh Bahadur Engineering College => 114\n",
      "INFLIBNET => 41\n"
     ]
    }
   ],
   "source": [
    "case_list = []\n",
    "for a in df.itertuples():\n",
    "  instName = a[1]\n",
    "  instQuery = a[2]\n",
    "  key = \"xxxxxxxxxxxxxxxxxxxxxxx\"\n",
    "  # url = \"https://api.elsevier.com/content/search/scopus?query=\"+instQuery+\"\"\n",
    "  url = \"https://api.elsevier.com/content/search/scopus?query=\"+instQuery\n",
    "  headers = {'Accept':'application/json','X-ELS-APIKey':key}\n",
    "  r = requests.get(url, headers=headers)\n",
    "  info = r.json()\n",
    "  TotalResult = info['search-results']['opensearch:totalResults']\n",
    "\n",
    "  for i in info['search-results']['entry']:\n",
    "    store(i)\n",
    "    las = int(info['search-results']['opensearch:startIndex']) + int(info['search-results']['opensearch:itemsPerPage'])\n",
    "    \n",
    "    while int(info['search-results']['opensearch:totalResults']) >= int(info['search-results']['opensearch:startIndex']) + int(info['search-results']['opensearch:itemsPerPage']):\n",
    "      # url = \"https://api.elsevier.com/content/search/scopus?query=\"+str(instQuery)+\"&start=\"+str(las)+\"&field=dc:title,dc:creator,prism:publicationName,prism:volume,prism:pageRange,prism:coverDate,prism:doi,citedby-count\"\n",
    "      url = \"https://api.elsevier.com/content/search/scopus?query=\"+str(instQuery)+\"&start=\"+str(las)\n",
    "      r = requests.get(url, headers=headers)\n",
    "      info = r.json()\n",
    "      las = int(info['search-results']['opensearch:startIndex']) + int(info['search-results']['opensearch:itemsPerPage'])\n",
    "      for i in info['search-results']['entry']:\n",
    "        store(i)\n",
    "  print(instName,'=>',TotalResult)"
   ]
  },
  {
   "cell_type": "code",
   "execution_count": 5,
   "metadata": {
    "colab": {
     "base_uri": "https://localhost:8080/",
     "height": 143
    },
    "id": "11d2YBSIZ5ms",
    "outputId": "ec879f42-cc8f-46d6-ff38-b9fc3649bd50"
   },
   "outputs": [
    {
     "name": "stdout",
     "output_type": "stream",
     "text": [
      "Metadata file created\n"
     ]
    },
    {
     "data": {
      "text/html": [
       "<div>\n",
       "<style scoped>\n",
       "    .dataframe tbody tr th:only-of-type {\n",
       "        vertical-align: middle;\n",
       "    }\n",
       "\n",
       "    .dataframe tbody tr th {\n",
       "        vertical-align: top;\n",
       "    }\n",
       "\n",
       "    .dataframe thead th {\n",
       "        text-align: right;\n",
       "    }\n",
       "</style>\n",
       "<table border=\"1\" class=\"dataframe\">\n",
       "  <thead>\n",
       "    <tr style=\"text-align: right;\">\n",
       "      <th></th>\n",
       "      <th>Institute Name</th>\n",
       "      <th>No of Publications</th>\n",
       "      <th>Total Citation</th>\n",
       "    </tr>\n",
       "  </thead>\n",
       "  <tbody>\n",
       "    <tr>\n",
       "      <th>0</th>\n",
       "      <td>Baba Banda Singh Bahadur Engineering College</td>\n",
       "      <td>114</td>\n",
       "      <td>661</td>\n",
       "    </tr>\n",
       "    <tr>\n",
       "      <th>1</th>\n",
       "      <td>Hon. Shri. Annasaheb Dange College Of Engineer...</td>\n",
       "      <td>71</td>\n",
       "      <td>196</td>\n",
       "    </tr>\n",
       "    <tr>\n",
       "      <th>2</th>\n",
       "      <td>INFLIBNET</td>\n",
       "      <td>41</td>\n",
       "      <td>140</td>\n",
       "    </tr>\n",
       "  </tbody>\n",
       "</table>\n",
       "</div>"
      ],
      "text/plain": [
       "                                      Institute Name  No of Publications  \\\n",
       "0       Baba Banda Singh Bahadur Engineering College                 114   \n",
       "1  Hon. Shri. Annasaheb Dange College Of Engineer...                  71   \n",
       "2                                          INFLIBNET                  41   \n",
       "\n",
       "   Total Citation  \n",
       "0             661  \n",
       "1             196  \n",
       "2             140  "
      ]
     },
     "execution_count": 5,
     "metadata": {},
     "output_type": "execute_result"
    }
   ],
   "source": [
    "# Convert case_list to DataFrame and in Excel file\n",
    "Metadata = pd.DataFrame(case_list)\n",
    "Metadata.to_excel('Metadata.xlsx')\n",
    "print('Metadata file created')\n",
    "\n",
    "# Apply Count and Sum on data group by institute name \n",
    "Summary = Metadata.groupby('instName')['citedbycount'].agg(['count','sum'])\n",
    "\n",
    "# Rename the field name\n",
    "finalOut = Summary.reset_index().rename(columns={'instName':'Institute Name','count':'No of Publications','sum':'Total Citation'})\n",
    "\n",
    "# Saving final output in Excel file\n",
    "finalOut.to_excel('finalOut.xlsx')\n",
    "finalOut"
   ]
  },
  {
   "cell_type": "code",
   "execution_count": null,
   "metadata": {
    "id": "WZ3FZMujjnC4"
   },
   "outputs": [],
   "source": []
  }
 ],
 "metadata": {
  "colab": {
   "collapsed_sections": [],
   "name": "Subham.ipynb",
   "provenance": []
  },
  "kernelspec": {
   "display_name": "Python 3",
   "language": "python",
   "name": "python3"
  },
  "language_info": {
   "codemirror_mode": {
    "name": "ipython",
    "version": 3
   },
   "file_extension": ".py",
   "mimetype": "text/x-python",
   "name": "python",
   "nbconvert_exporter": "python",
   "pygments_lexer": "ipython3",
   "version": "3.8.5"
  }
 },
 "nbformat": 4,
 "nbformat_minor": 1
}
