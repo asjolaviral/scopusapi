{
  "cells": [
    {
      "cell_type": "markdown",
      "metadata": {
        "id": "view-in-github",
        "colab_type": "text"
      },
      "source": [
        "<a href=\"https://colab.research.google.com/github/asjolaviral/scopusapi/blob/main/Scopus_API.ipynb\" target=\"_parent\"><img src=\"https://colab.research.google.com/assets/colab-badge.svg\" alt=\"Open In Colab\"/></a>"
      ]
    },
    {
      "cell_type": "markdown",
      "metadata": {
        "id": "3nbCynKLB5aN"
      },
      "source": [
        "# Upload query file"
      ]
    },
    {
      "cell_type": "markdown",
      "metadata": {
        "id": "gcPkOo0lCEbr"
      },
      "source": [
        "Create an excel file **QueryList.xlsx** in following format and upload it.\n",
        "\n",
        "instName | Query | Year \n",
        "-------------------|------------------|------------------\n",
        "Hon. Shri. Annasaheb Dange College Of Engineering and Technology       | ( AF-ID ( \"Hon. Shri. Annasaheb Dange College Of Engineering and Technology\"   60076913 )       | 2020-2021\n",
        "Baba Banda Singh Bahadur Engineering College       | ( AF-ID ( \"Baba Banda Singh Bahadur Engineering College\" 60097465 )       | 2020-2021\n",
        "INFLIBNET       | (AF-ID ( \"Information and Library Network Centre India\" 60004467 )       | 2020-2021"
      ]
    },
    {
      "cell_type": "code",
      "execution_count": null,
      "metadata": {
        "id": "nu4FTdwETh04"
      },
      "outputs": [],
      "source": [
        "# Import Libraries\n",
        "import requests\n",
        "import json\n",
        "# import xlwt\n",
        "import pandas as pd"
      ]
    },
    {
      "cell_type": "code",
      "execution_count": null,
      "metadata": {
        "id": "nqw4FOHgCN3s"
      },
      "outputs": [],
      "source": [
        "from google.colab import files\n",
        "uploaded = files.upload()\n",
        "\n",
        "for fn in uploaded.keys():\n",
        "  print('User uploaded file \"{name}\" with length {length} bytes'.format(\n",
        "      name=fn, length=len(uploaded[fn])))"
      ]
    },
    {
      "cell_type": "code",
      "execution_count": null,
      "metadata": {
        "id": "sD9j4WGuQ0JJ"
      },
      "outputs": [],
      "source": [
        "# Import excel file of queries\n",
        "df = pd.read_excel('QueryList.xlsx')"
      ]
    },
    {
      "cell_type": "code",
      "execution_count": null,
      "metadata": {
        "id": "o9QhrtAFRCfI"
      },
      "outputs": [],
      "source": [
        "df.head()"
      ]
    },
    {
      "cell_type": "markdown",
      "metadata": {
        "id": "KxGP8dCsyeh8"
      },
      "source": [
        "# Extracting metadata using Scopus API"
      ]
    },
    {
      "cell_type": "code",
      "execution_count": null,
      "metadata": {
        "id": "4v-oaHnn_dyC"
      },
      "outputs": [],
      "source": [
        "# Function to store the data.\n",
        "def store(i):\n",
        "  case = {'url':i['prism:url'],\n",
        "          'title':i['dc:title'],\n",
        "          'author':i.get('dc:creator','NaN'),\n",
        "          'publicationname':i.get('prism:publicationName','NaN'),\n",
        "          'issn':i.get('prism:issn','NaN'),\n",
        "          'eissn':i.get('prism:eIssn','NaN'),\n",
        "          'volume':i.get('prism:volume','NaN'),\n",
        "          'issue':i.get('prism:issueIdentifier','NaN'),\n",
        "          'pagerange':i.get('prism:pageRange','NaN'),\n",
        "          'coverdate':i.get('prism:coverDate','NaN'),\n",
        "          'coverdisplaydate':i.get('prism:coverDisplayDate','NaN'),\n",
        "          'doi':i.get('prism:doi','NaN'),\n",
        "          'citedbycount':int(i.get('citedby-count','NaN')),\n",
        "          'eid':i.get('eid','NaN'),\n",
        "          'instName':(instName)\n",
        "          }\n",
        "  data.append(case)"
      ]
    },
    {
      "cell_type": "code",
      "execution_count": null,
      "metadata": {
        "id": "p-NBn0GLWTsw"
      },
      "outputs": [],
      "source": [
        "# API key and header\n",
        "key = \"xxxxxxxxxx\"\n",
        "headers = {'Accept':'application/json','X-ELS-APIKey':key}"
      ]
    },
    {
      "cell_type": "code",
      "source": [
        "data = []\n",
        "# Loop to iterate individual query\n",
        "for a in df.itertuples():\n",
        "    instName = a[1]\n",
        "    instQuery = a[2]\n",
        "    pubYear = str(a[3])\n",
        "    Total_record = 0\n",
        "    start_index = 0\n",
        "    print('Batch Started for:',instName)\n",
        "    while Total_record >= start_index:\n",
        "        url = \"https://api.elsevier.com/content/search/scopus?start=\"+str(start_index)+'&count='+str(25)+'&query='+instQuery+'&date='+pubYear\n",
        "        response_data = requests.get(url, headers=headers)\n",
        "        info = response_data.json()\n",
        "        for i in info['search-results']['entry']:\n",
        "            store(i)\n",
        "        print(start_index)\n",
        "        start_index = start_index + 25\n",
        "        Total_record = int(info['search-results']['opensearch:totalResults'])\n",
        "    print(25-(Total_record-start_index),'--Batch Completed for ', instName)"
      ],
      "metadata": {
        "id": "00_QCV2lUbcD"
      },
      "execution_count": null,
      "outputs": []
    },
    {
      "cell_type": "code",
      "execution_count": null,
      "metadata": {
        "id": "11d2YBSIZ5ms"
      },
      "outputs": [],
      "source": [
        "# Convert case_list to DataFrame and in Excel file\n",
        "Metadata = pd.DataFrame(data)\n",
        "Metadata.to_excel('Metadata.xlsx')\n",
        "\n",
        "# Apply Count and Sum on data group by institute name \n",
        "Summary = Metadata.groupby('instName')['citedbycount'].agg(['count','sum'])\n",
        "\n",
        "# Rename the field name\n",
        "instPubCitation = Summary.reset_index().rename(columns={'instName':'Institute Name','count':'No of Publications','sum':'Total Citation'})\n",
        "\n",
        "# Saving final output in Excel file\n",
        "instPubCitation.to_excel('instPubCitation.xlsx')"
      ]
    },
    {
      "cell_type": "markdown",
      "metadata": {
        "id": "kJgDxXhF5qsH"
      },
      "source": [
        "# Additional Information"
      ]
    },
    {
      "cell_type": "code",
      "execution_count": null,
      "metadata": {
        "id": "fapC4M6OyujO"
      },
      "outputs": [],
      "source": [
        "# Get the quota detail\n",
        "url = \"https://api.elsevier.com/content/search/scopus?query=\"+instQuery\n",
        "headers = {'Accept':'application/json','X-ELS-APIKey':key}\n",
        "r = requests.get(url, headers=headers)\n",
        "quota = r.headers\n",
        "print(r.headers)"
      ]
    },
    {
      "cell_type": "code",
      "execution_count": null,
      "metadata": {
        "id": "zXE9rUvS0jL8"
      },
      "outputs": [],
      "source": [
        "import datetime\n",
        "epochtime = int(quota['X-RateLimit-Reset']) / 1000\n",
        "datetime = datetime.datetime.fromtimestamp(epochtime)\n",
        "\n",
        "print('Total Quota',quota['X-RateLimit-Limit'],'\\n',\n",
        "      'Quota Remaining',quota['X-RateLimit-Remaining'],'\\n',\n",
        "      'Quota Reset Date/Time',datetime,'\\n',\n",
        "      'Quota Status',quota['X-ELS-Status']\n",
        "      )"
      ]
    }
  ],
  "metadata": {
    "colab": {
      "collapsed_sections": [
        "UlXee3OBDdWZ",
        "ZNkYbUsjyAnS"
      ],
      "name": "Scopus API.ipynb",
      "provenance": [],
      "include_colab_link": true
    },
    "kernelspec": {
      "display_name": "Python 3",
      "language": "python",
      "name": "python3"
    },
    "language_info": {
      "codemirror_mode": {
        "name": "ipython",
        "version": 3
      },
      "file_extension": ".py",
      "mimetype": "text/x-python",
      "name": "python",
      "nbconvert_exporter": "python",
      "pygments_lexer": "ipython3",
      "version": "3.9.5"
    }
  },
  "nbformat": 4,
  "nbformat_minor": 0
}